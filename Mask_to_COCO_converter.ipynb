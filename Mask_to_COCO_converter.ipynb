{
 "cells": [
  {
   "cell_type": "markdown",
   "metadata": {},
   "source": [
    "### Import Libraries"
   ]
  },
  {
   "cell_type": "code",
   "execution_count": 1,
   "metadata": {},
   "outputs": [],
   "source": [
    "import cv2\n",
    "import numpy as np\n",
    "from glob import glob\n",
    "import os\n",
    "from PIL import Image\n",
    "import shutil\n",
    "import matplotlib.pyplot as plt"
   ]
  },
  {
   "cell_type": "markdown",
   "metadata": {},
   "source": [
    "### convert labels helper function"
   ]
  },
  {
   "cell_type": "code",
   "execution_count": null,
   "metadata": {},
   "outputs": [],
   "source": [
    "def convert_labels(size, x1, y1, x2, y2):\n",
    "    \"\"\"\n",
    "    Definition: Parses label files to extract label and bounding box\n",
    "        coordinates.  Converts (x1, y1, x1, y2) KITTI format to\n",
    "        (x, y, width, height) normalized YOLO format.\n",
    "    \"\"\"\n",
    "    def sorting(l1, l2):\n",
    "        if l1 > l2:\n",
    "            lmax, lmin = l1, l2\n",
    "            return lmax, lmin\n",
    "        else:\n",
    "            lmax, lmin = l2, l1\n",
    "            return lmax, lmin\n",
    "    \n",
    "    xmax, xmin = sorting(x1, x2)\n",
    "    ymax, ymin = sorting(y1, y2)\n",
    "    dw = 1./size[0]\n",
    "    dh = 1./size[1]\n",
    "    x = (xmin + xmax)/2.0\n",
    "    y = (ymin + ymax)/2.0\n",
    "    w = xmax - xmin\n",
    "    h = ymax - ymin\n",
    "    x = x*dw\n",
    "    w = w*dw\n",
    "    y = y*dh\n",
    "    h = h*dh\n",
    "    return (x,y,w,h)"
   ]
  },
  {
   "cell_type": "code",
   "execution_count": null,
   "metadata": {},
   "outputs": [],
   "source": [
    "count=0\n",
    "for file in glob('coco/data3/val/*.png'):\n",
    "    #shutil.copy2(file, 'coco/train/images/' )\n",
    "    #print(name)\n",
    "    name = file.split('/')[-1]\n",
    "    #print(name[:-4])\n",
    "    img = cv2.imread(file, 0)\n",
    "    im=Image.open(file)\n",
    "\n",
    "    ret,thresh = cv2.threshold(img,30,255,1)\n",
    "    #print(thresh.shape[0])\n",
    "    contours,h = cv2.findContours(thresh,cv2.RETR_TREE, cv2.CHAIN_APPROX_NONE)\n",
    "    x, y, w, h = cv2.boundingRect(contours[1])\n",
    "    #contours,h = cv2.findContours(thresh,cv2.RETR_TREE, cv2.CHAIN_APPROX_NONE)\n",
    "    direct = os.path.join('coco/data3/val/', f\"{name[:-4]}.txt\")\n",
    "    with open(direct, \"w\") as text_file:\n",
    "        for i in range(len(contours)):\n",
    "            area = cv2.contourArea(contours[i])\n",
    "            if area < 600000 and area > 100:\n",
    "                x, y, w, h = cv2.boundingRect(contours[i])\n",
    "                #print(name, area )\n",
    "                ww, hh = x+w, y+h\n",
    "                box = (x, y, ww, hh)\n",
    "                #print(box)\n",
    "                bbox = convert_labels(im.size, x,y,ww, hh)\n",
    "                #print(im.size)\n",
    "                print(name,bbox)\n",
    "                text_file.write(f'0 {bbox[0]} {bbox[1]} {bbox[2]} {bbox[3]}'+'\\n')\n",
    "    count+=1 \n",
    "    text_file.close()"
   ]
  },
  {
   "cell_type": "code",
   "execution_count": null,
   "metadata": {},
   "outputs": [],
   "source": [
    "img = cv2.imread('coco/data3/val/773854.png')\n",
    "#print(img)\n",
    "dh, dw, _ = img.shape\n",
    "\n",
    "fl = open('coco/data3/val/773854.txt', 'r')\n",
    "data = fl.readlines()\n",
    "fl.close()\n",
    "for dt in data:\n",
    "\n",
    "    # Split string to float\n",
    "    _, x, y, w, h = map(float, dt.split(' '))\n",
    "\n",
    "    # Taken from https://github.com/pjreddie/darknet/blob/810d7f797bdb2f021dbe65d2524c2ff6b8ab5c8b/src/image.c#L283-L291\n",
    "    # via https://stackoverflow.com/questions/44544471/how-to-get-the-coordinates-of-the-bounding-box-in-yolo-object-detection#comment102178409_44592380\n",
    "    l = int((x - w / 2) * dw)\n",
    "    r = int((x + w / 2) * dw)\n",
    "    t = int((y - h / 2) * dh)\n",
    "    b = int((y + h / 2) * dh)\n",
    "    \n",
    "    if l < 0:\n",
    "        l = 0\n",
    "    if r > dw - 1:\n",
    "        r = dw - 1\n",
    "    if t < 0:\n",
    "        t = 0\n",
    "    if b > dh - 1:\n",
    "        b = dh - 1\n",
    "\n",
    "    cv2.rectangle(img, (l, t), (r, b), (0, 0, 255), 3)\n",
    "\n",
    "plt.imshow(img)\n",
    "plt.show()"
   ]
  }
 ],
 "metadata": {
  "kernelspec": {
   "display_name": "Python 3",
   "language": "python",
   "name": "python3"
  },
  "language_info": {
   "codemirror_mode": {
    "name": "ipython",
    "version": 3
   },
   "file_extension": ".py",
   "mimetype": "text/x-python",
   "name": "python",
   "nbconvert_exporter": "python",
   "pygments_lexer": "ipython3",
   "version": "3.8.5"
  }
 },
 "nbformat": 4,
 "nbformat_minor": 4
}
